{
 "cells": [
  {
   "cell_type": "code",
   "execution_count": 1,
   "metadata": {},
   "outputs": [],
   "source": [
    "from load_data import get_mfcc, get_spectrogram\n",
    "import matplotlib.pyplot as plt\n",
    "\n",
    "import os\n",
    "import pandas as pd\n",
    "import json\n",
    "import numpy as np\n",
    "import librosa"
   ]
  },
  {
   "cell_type": "markdown",
   "metadata": {},
   "source": [
    "Analyze signal shapes"
   ]
  },
  {
   "cell_type": "code",
   "execution_count": 2,
   "metadata": {},
   "outputs": [
    {
     "data": {
      "image/png": "[encoded data removed]",
      "text/plain": [
       "<Figure size 432x288 with 1 Axes>"
      ]
     },
     "metadata": {
      "needs_background": "light"
     },
     "output_type": "display_data"
    }
   ],
   "source": [
    "DATASET_PATH = 'data'\n",
    "\n",
    "signal_shape = []\n",
    "for root, dirs, files in os.walk(DATASET_PATH):\n",
    "    for file in files:\n",
    "        file_path = os.path.join(root, file)\n",
    "        signal, sample_rate = librosa.load(file_path)\n",
    "        signal_shape.append(signal.shape[0])\n",
    "\n",
    "plt.hist(signal_shape, bins=40)\n",
    "plt.show()"
   ]
  },
  {
   "cell_type": "code",
   "execution_count": 3,
   "metadata": {},
   "outputs": [],
   "source": [
    "MINIMAL_SHAPE = min(set(signal_shape))\n",
    "MAXIMAL_SHAPE = max(set(signal_shape))"
   ]
  },
  {
   "cell_type": "markdown",
   "metadata": {},
   "source": [
    "Prepare dataset"
   ]
  },
  {
   "cell_type": "code",
   "execution_count": 4,
   "metadata": {},
   "outputs": [],
   "source": [
    "# Calculate number of songs\n",
    "NUM_OF_GENRES = 10\n",
    "NUM_OF_SONGS_PER_GENRE = 100\n",
    "INVALID_SONGS = 1\n",
    "NUM_OF_SONGS = NUM_OF_GENRES * NUM_OF_SONGS_PER_GENRE - INVALID_SONGS\n",
    "\n",
    "# Calculate shape of input\n",
    "EXAMPLE_SONG_PATH = 'data/blues/blues.00000.wav'\n",
    "input_data_shape = get_mfcc(EXAMPLE_SONG_PATH, 2048, 512, 14, MINIMAL_SHAPE).shape\n",
    "\n",
    "# Alocate memory to array\n",
    "x = np.ndarray(shape=(NUM_OF_SONGS, input_data_shape[0], input_data_shape[1]), dtype=np.float32)\n",
    "y = []\n"
   ]
  },
  {
   "cell_type": "code",
   "execution_count": 5,
   "metadata": {},
   "outputs": [],
   "source": [
    "# Create dataset arrays\n",
    "\n",
    "DATASET_PATH = 'data'\n",
    "\n",
    "i = 0\n",
    "for root, dirs, files in os.walk(DATASET_PATH):\n",
    "    for file in files:\n",
    "        file_path = os.path.join(root, file)\n",
    "        spectrogram = get_mfcc(file_path, 2048, 512, 14, MINIMAL_SHAPE)\n",
    "        label = file.split(\".\")[0]\n",
    "        x[i] = spectrogram\n",
    "        y.append(label)\n",
    "        i += 1        "
   ]
  },
  {
   "cell_type": "code",
   "execution_count": 7,
   "metadata": {},
   "outputs": [
    {
     "data": {
      "text/plain": [
       "(14, 1290)"
      ]
     },
     "execution_count": 7,
     "metadata": {},
     "output_type": "execute_result"
    }
   ],
   "source": [
    "input_data_shape"
   ]
  },
  {
   "cell_type": "code",
   "execution_count": 6,
   "metadata": {},
   "outputs": [],
   "source": [
    "from sklearn.model_selection import train_test_split\n",
    "from sklearn.preprocessing import StandardScaler\n",
    "import tensorflow as tf\n",
    "\n",
    "x_train, x_test, y_train, y_test = train_test_split(x, y, test_size=0.3)\n",
    "\n",
    "scaler = StandardScaler()\n",
    "x_train = scaler.fit_transform(x_train)\n",
    "x_test = scaler.transform(x_test)\n",
    "\n",
    "y_train = tf.keras.utils.\n"
   ]
  },
  {
   "cell_type": "code",
   "execution_count": null,
   "metadata": {},
   "outputs": [],
   "source": [
    "import keras\n",
    "from keras import layers\n",
    "\n",
    "model = keras.Sequential()\n",
    "model.add(layers.Flatten(input_shape=input_data_shape))\n",
    "model.add(layers.Dense(32, activation=\"relu\"))"
   ]
  }
 ],
 "metadata": {
  "interpreter": {
   "hash": "d27fb44d14756a62e9912ec9a82c0329f658850af359cd265aa508da5ed1e685"
  },
  "kernelspec": {
   "display_name": "Python 3.9.7 ('dl_project')",
   "language": "python",
   "name": "python3"
  },
  "language_info": {
   "codemirror_mode": {
    "name": "ipython",
    "version": 3
   },
   "file_extension": ".py",
   "mimetype": "text/x-python",
   "name": "python",
   "nbconvert_exporter": "python",
   "pygments_lexer": "ipython3",
   "version": "3.9.7"
  },
  "orig_nbformat": 4
 },
 "nbformat": 4,
 "nbformat_minor": 2
}
