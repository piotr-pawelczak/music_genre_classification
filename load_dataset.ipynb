{
 "cells": [
  {
   "cell_type": "code",
   "execution_count": 1,
   "metadata": {},
   "outputs": [],
   "source": [
    "from load_data import get_mfcc, get_spectrogram\n",
    "import matplotlib.pyplot as plt\n",
    "\n",
    "import os\n",
    "import pandas as pd\n",
    "import json\n",
    "import numpy as np\n",
    "import librosa"
   ]
  },
  {
   "cell_type": "code",
   "execution_count": 2,
   "metadata": {},
   "outputs": [],
   "source": [
    "os.environ[\"SM_FRAMEWORK\"] = \"tf.keras\""
   ]
  },
  {
   "cell_type": "markdown",
   "metadata": {},
   "source": [
    "Analyze signal shapes"
   ]
  },
  {
   "cell_type": "code",
   "execution_count": 3,
   "metadata": {},
   "outputs": [
    {
     "data": {
      "image/png": "[encoded data removed]",
      "text/plain": [
       "<Figure size 432x288 with 1 Axes>"
      ]
     },
     "metadata": {
      "needs_background": "light"
     },
     "output_type": "display_data"
    }
   ],
   "source": [
    "DATASET_PATH = 'data'\n",
    "\n",
    "signal_shape = []\n",
    "for root, dirs, files in os.walk(DATASET_PATH):\n",
    "    for file in files:\n",
    "        file_path = os.path.join(root, file)\n",
    "        signal, sample_rate = librosa.load(file_path)\n",
    "        signal_shape.append(signal.shape[0])\n",
    "\n",
    "plt.hist(signal_shape, bins=40)\n",
    "plt.show()"
   ]
  },
  {
   "cell_type": "code",
   "execution_count": 4,
   "metadata": {},
   "outputs": [],
   "source": [
    "MINIMAL_SHAPE = min(set(signal_shape))\n",
    "MAXIMAL_SHAPE = max(set(signal_shape))"
   ]
  },
  {
   "cell_type": "markdown",
   "metadata": {},
   "source": [
    "Prepare dataset"
   ]
  },
  {
   "cell_type": "code",
   "execution_count": 5,
   "metadata": {},
   "outputs": [],
   "source": [
    "# Calculate number of songs\n",
    "NUM_OF_GENRES = 10\n",
    "NUM_OF_SONGS_PER_GENRE = 100\n",
    "INVALID_SONGS = 2\n",
    "NUM_OF_SONGS = NUM_OF_GENRES * NUM_OF_SONGS_PER_GENRE - INVALID_SONGS\n",
    "\n",
    "# Calculate shape of input\n",
    "EXAMPLE_SONG_PATH = 'data/blues/blues.00000.wav'\n",
    "input_data_shape = get_mfcc(EXAMPLE_SONG_PATH, 2048, 512, 14, MINIMAL_SHAPE).shape\n",
    "\n",
    "# Alocate memory to array\n",
    "x = np.ndarray(shape=(NUM_OF_SONGS, input_data_shape[0], input_data_shape[1]), dtype=np.float32)\n",
    "y = []\n"
   ]
  },
  {
   "cell_type": "code",
   "execution_count": 6,
   "metadata": {},
   "outputs": [],
   "source": [
    "# Create dataset arrays\n",
    "\n",
    "DATASET_PATH = 'data'\n",
    "\n",
    "i = 0\n",
    "for root, dirs, files in os.walk(DATASET_PATH):\n",
    "    for file in files:\n",
    "        file_path = os.path.join(root, file)\n",
    "        spectrogram = get_mfcc(file_path, 2048, 512, 14, MINIMAL_SHAPE)\n",
    "        label = file.split(\".\")[0]\n",
    "        x[i] = spectrogram\n",
    "        y.append(label)\n",
    "        i += 1        "
   ]
  },
  {
   "cell_type": "code",
   "execution_count": 7,
   "metadata": {},
   "outputs": [
    {
     "data": {
      "text/plain": [
       "(14, 1290)"
      ]
     },
     "execution_count": 7,
     "metadata": {},
     "output_type": "execute_result"
    }
   ],
   "source": [
    "input_data_shape"
   ]
  },
  {
   "cell_type": "code",
   "execution_count": 13,
   "metadata": {},
   "outputs": [],
   "source": [
    "from sklearn.model_selection import train_test_split\n",
    "from sklearn.preprocessing import StandardScaler\n",
    "import tensorflow as tf\n",
    "\n",
    "X_train, X_test, y_train, y_test = train_test_split(x, y, test_size=0.3)\n"
   ]
  },
  {
   "cell_type": "code",
   "execution_count": 14,
   "metadata": {},
   "outputs": [],
   "source": [
    "scaler = StandardScaler()\n",
    "X_train = scaler.fit_transform(X_train.reshape(-1, X_train.shape[-1])).reshape(X_train.shape)\n",
    "X_test = scaler.transform(X_test.reshape(-1, X_test.shape[-1])).reshape(X_test.shape)"
   ]
  },
  {
   "cell_type": "code",
   "execution_count": 15,
   "metadata": {},
   "outputs": [],
   "source": [
    "from sklearn.preprocessing import LabelEncoder\n",
    "\n",
    "y_train = np.array(y_train)\n",
    "\n",
    "label_encoder = LabelEncoder()\n",
    "y_train = label_encoder.fit_transform(y_train)\n",
    "\n",
    "y_test = np.array(y_test)\n",
    "y_test = label_encoder.transform(y_test)"
   ]
  },
  {
   "cell_type": "code",
   "execution_count": 12,
   "metadata": {},
   "outputs": [
    {
     "ename": "AttributeError",
     "evalue": "module 'tensorflow' has no attribute 'keras'",
     "output_type": "error",
     "traceback": [
      "\u001b[1;31m---------------------------------------------------------------------------\u001b[0m",
      "\u001b[1;31mAttributeError\u001b[0m                            Traceback (most recent call last)",
      "\u001b[1;32md:\\etrapez\\Repos\\music_genre_classification\\load_dataset.ipynb Cell 13'\u001b[0m in \u001b[0;36m<cell line: 1>\u001b[1;34m()\u001b[0m\n\u001b[1;32m----> <a href='vscode-notebook-cell:/d%3A/etrapez/Repos/music_genre_classification/load_dataset.ipynb#ch0000011?line=0'>1</a>\u001b[0m y_train \u001b[39m=\u001b[39m tf\u001b[39m.\u001b[39;49mkeras\u001b[39m.\u001b[39mutils\u001b[39m.\u001b[39mto_categorical(y_train, num_classes\u001b[39m=\u001b[39m\u001b[39m10\u001b[39m)\n\u001b[0;32m      <a href='vscode-notebook-cell:/d%3A/etrapez/Repos/music_genre_classification/load_dataset.ipynb#ch0000011?line=1'>2</a>\u001b[0m y_test \u001b[39m=\u001b[39m tf\u001b[39m.\u001b[39mkeras\u001b[39m.\u001b[39mutils\u001b[39m.\u001b[39mto_categorical(y_test, num_classes\u001b[39m=\u001b[39m\u001b[39m10\u001b[39m)\n",
      "\u001b[1;31mAttributeError\u001b[0m: module 'tensorflow' has no attribute 'keras'"
     ]
    }
   ],
   "source": [
    "y_train = tf.keras.utils.to_categorical(y_train, num_classes=10)\n",
    "y_test = tf.keras.utils.to_categorical(y_test, num_classes=10)"
   ]
  },
  {
   "cell_type": "code",
   "execution_count": 16,
   "metadata": {},
   "outputs": [
    {
     "ename": "ImportError",
     "evalue": "cannot import name 'tf2' from 'tensorflow.python' (unknown location)",
     "output_type": "error",
     "traceback": [
      "\u001b[1;31m---------------------------------------------------------------------------\u001b[0m",
      "\u001b[1;31mImportError\u001b[0m                               Traceback (most recent call last)",
      "\u001b[1;32md:\\etrapez\\Repos\\music_genre_classification\\load_dataset.ipynb Cell 14'\u001b[0m in \u001b[0;36m<cell line: 1>\u001b[1;34m()\u001b[0m\n\u001b[1;32m----> <a href='vscode-notebook-cell:/d%3A/etrapez/Repos/music_genre_classification/load_dataset.ipynb#ch0000012?line=0'>1</a>\u001b[0m \u001b[39mimport\u001b[39;00m \u001b[39mkeras\u001b[39;00m\n\u001b[0;32m      <a href='vscode-notebook-cell:/d%3A/etrapez/Repos/music_genre_classification/load_dataset.ipynb#ch0000012?line=1'>2</a>\u001b[0m \u001b[39mfrom\u001b[39;00m \u001b[39mkeras\u001b[39;00m \u001b[39mimport\u001b[39;00m layers\n\u001b[0;32m      <a href='vscode-notebook-cell:/d%3A/etrapez/Repos/music_genre_classification/load_dataset.ipynb#ch0000012?line=3'>4</a>\u001b[0m model \u001b[39m=\u001b[39m keras\u001b[39m.\u001b[39mSequential()\n",
      "File \u001b[1;32mc:\\Anaconda3\\envs\\music_gengre_class\\lib\\site-packages\\keras\\__init__.py:21\u001b[0m, in \u001b[0;36m<module>\u001b[1;34m\u001b[0m\n\u001b[0;32m     <a href='file:///c%3A/Anaconda3/envs/music_gengre_class/lib/site-packages/keras/__init__.py?line=14'>15</a>\u001b[0m \u001b[39m\"\"\"Implementation of the Keras API, the high-level API of TensorFlow.\u001b[39;00m\n\u001b[0;32m     <a href='file:///c%3A/Anaconda3/envs/music_gengre_class/lib/site-packages/keras/__init__.py?line=15'>16</a>\u001b[0m \n\u001b[0;32m     <a href='file:///c%3A/Anaconda3/envs/music_gengre_class/lib/site-packages/keras/__init__.py?line=16'>17</a>\u001b[0m \u001b[39mDetailed documentation and user guides are available at\u001b[39;00m\n\u001b[0;32m     <a href='file:///c%3A/Anaconda3/envs/music_gengre_class/lib/site-packages/keras/__init__.py?line=17'>18</a>\u001b[0m \u001b[39m[keras.io](https://keras.io).\u001b[39;00m\n\u001b[0;32m     <a href='file:///c%3A/Anaconda3/envs/music_gengre_class/lib/site-packages/keras/__init__.py?line=18'>19</a>\u001b[0m \u001b[39m\"\"\"\u001b[39;00m\n\u001b[0;32m     <a href='file:///c%3A/Anaconda3/envs/music_gengre_class/lib/site-packages/keras/__init__.py?line=19'>20</a>\u001b[0m \u001b[39m# pylint: disable=unused-import\u001b[39;00m\n\u001b[1;32m---> <a href='file:///c%3A/Anaconda3/envs/music_gengre_class/lib/site-packages/keras/__init__.py?line=20'>21</a>\u001b[0m \u001b[39mfrom\u001b[39;00m \u001b[39mtensorflow\u001b[39;00m\u001b[39m.\u001b[39;00m\u001b[39mpython\u001b[39;00m \u001b[39mimport\u001b[39;00m tf2\n\u001b[0;32m     <a href='file:///c%3A/Anaconda3/envs/music_gengre_class/lib/site-packages/keras/__init__.py?line=21'>22</a>\u001b[0m \u001b[39mfrom\u001b[39;00m \u001b[39mkeras\u001b[39;00m \u001b[39mimport\u001b[39;00m distribute\n\u001b[0;32m     <a href='file:///c%3A/Anaconda3/envs/music_gengre_class/lib/site-packages/keras/__init__.py?line=23'>24</a>\u001b[0m \u001b[39m# See b/110718070#comment18 for more details about this import.\u001b[39;00m\n",
      "\u001b[1;31mImportError\u001b[0m: cannot import name 'tf2' from 'tensorflow.python' (unknown location)"
     ]
    }
   ],
   "source": [
    "import keras\n",
    "from keras import layers\n",
    "\n",
    "model = keras.Sequential()\n",
    "model.add(layers.Flatten(input_shape=input_data_shape))\n",
    "model.add(layers.Dense(32, activation=\"relu\"))\n",
    "model.add(layers.Dense(10, activation=\"softmax\"))"
   ]
  },
  {
   "cell_type": "code",
   "execution_count": null,
   "metadata": {},
   "outputs": [],
   "source": [
    "model.compile(\n",
    "    optimizer='adam', \n",
    "    loss='categorical_crossentropy', \n",
    "    metrics=['accuracy']\n",
    ")"
   ]
  },
  {
   "cell_type": "code",
   "execution_count": 53,
   "metadata": {},
   "outputs": [
    {
     "name": "stdout",
     "output_type": "stream",
     "text": [
      "Model: \"sequential_2\"\n",
      "_________________________________________________________________\n",
      " Layer (type)                Output Shape              Param #   \n",
      "=================================================================\n",
      " flatten_2 (Flatten)         (None, 18060)             0         \n",
      "                                                                 \n",
      " dense_4 (Dense)             (None, 32)                577952    \n",
      "                                                                 \n",
      " dense_5 (Dense)             (None, 10)                330       \n",
      "                                                                 \n",
      "=================================================================\n",
      "Total params: 578,282\n",
      "Trainable params: 578,282\n",
      "Non-trainable params: 0\n",
      "_________________________________________________________________\n"
     ]
    }
   ],
   "source": [
    "model.summary()"
   ]
  },
  {
   "cell_type": "code",
   "execution_count": 54,
   "metadata": {},
   "outputs": [
    {
     "name": "stdout",
     "output_type": "stream",
     "text": [
      "Epoch 1/5\n"
     ]
    },
    {
     "ename": "AttributeError",
     "evalue": "in user code:\n\n    c:\\Anaconda3\\envs\\music_gengre_class\\lib\\site-packages\\keras\\engine\\training.py:853 train_function  *\n        return step_function(self, iterator)\n    c:\\Anaconda3\\envs\\music_gengre_class\\lib\\site-packages\\keras\\engine\\training.py:842 step_function  **\n        outputs = model.distribute_strategy.run(run_step, args=(data,))\n    c:\\Anaconda3\\envs\\music_gengre_class\\lib\\site-packages\\tensorflow\\python\\distribute\\distribute_lib.py:1286 run\n        \n    c:\\Anaconda3\\envs\\music_gengre_class\\lib\\site-packages\\tensorflow\\python\\distribute\\distribute_lib.py:2849 call_for_each_replica\n        \n    c:\\Anaconda3\\envs\\music_gengre_class\\lib\\site-packages\\tensorflow\\python\\distribute\\distribute_lib.py:3632 _call_for_each_replica\n        \n    c:\\Anaconda3\\envs\\music_gengre_class\\lib\\site-packages\\keras\\engine\\training.py:835 run_step  **\n        outputs = model.train_step(data)\n    c:\\Anaconda3\\envs\\music_gengre_class\\lib\\site-packages\\keras\\engine\\training.py:791 train_step\n        self.optimizer.minimize(loss, self.trainable_variables, tape=tape)\n    c:\\Anaconda3\\envs\\music_gengre_class\\lib\\site-packages\\keras\\optimizer_v2\\optimizer_v2.py:522 minimize\n        return self.apply_gradients(grads_and_vars, name=name)\n    c:\\Anaconda3\\envs\\music_gengre_class\\lib\\site-packages\\keras\\optimizer_v2\\optimizer_v2.py:655 apply_gradients\n        grads_and_vars = self._aggregate_gradients(grads_and_vars)\n    c:\\Anaconda3\\envs\\music_gengre_class\\lib\\site-packages\\keras\\optimizer_v2\\optimizer_v2.py:474 _aggregate_gradients\n        return self.gradient_aggregator(grads_and_vars)\n    c:\\Anaconda3\\envs\\music_gengre_class\\lib\\site-packages\\keras\\optimizer_v2\\utils.py:33 all_reduce_sum_gradients\n        if strategy_supports_no_merge_call():\n\n    AttributeError: module 'tensorflow.compat.v2.__internal__.distribute' has no attribute 'strategy_supports_no_merge_call'\n",
     "output_type": "error",
     "traceback": [
      "\u001b[1;31m---------------------------------------------------------------------------\u001b[0m",
      "\u001b[1;31mAttributeError\u001b[0m                            Traceback (most recent call last)",
      "\u001b[1;32md:\\etrapez\\Repos\\music_genre_classification\\load_dataset.ipynb Cell 16'\u001b[0m in \u001b[0;36m<cell line: 1>\u001b[1;34m()\u001b[0m\n\u001b[1;32m----> <a href='vscode-notebook-cell:/d%3A/etrapez/Repos/music_genre_classification/load_dataset.ipynb#ch0000018?line=0'>1</a>\u001b[0m history \u001b[39m=\u001b[39m model\u001b[39m.\u001b[39;49mfit(\n\u001b[0;32m      <a href='vscode-notebook-cell:/d%3A/etrapez/Repos/music_genre_classification/load_dataset.ipynb#ch0000018?line=1'>2</a>\u001b[0m     X_train, y_train,\n\u001b[0;32m      <a href='vscode-notebook-cell:/d%3A/etrapez/Repos/music_genre_classification/load_dataset.ipynb#ch0000018?line=2'>3</a>\u001b[0m     validation_data\u001b[39m=\u001b[39;49m(X_test, y_test),\n\u001b[0;32m      <a href='vscode-notebook-cell:/d%3A/etrapez/Repos/music_genre_classification/load_dataset.ipynb#ch0000018?line=3'>4</a>\u001b[0m     epochs\u001b[39m=\u001b[39;49m\u001b[39m5\u001b[39;49m,\n\u001b[0;32m      <a href='vscode-notebook-cell:/d%3A/etrapez/Repos/music_genre_classification/load_dataset.ipynb#ch0000018?line=4'>5</a>\u001b[0m     batch_size\u001b[39m=\u001b[39;49m\u001b[39m128\u001b[39;49m\n\u001b[0;32m      <a href='vscode-notebook-cell:/d%3A/etrapez/Repos/music_genre_classification/load_dataset.ipynb#ch0000018?line=5'>6</a>\u001b[0m )\n",
      "File \u001b[1;32mc:\\Anaconda3\\envs\\music_gengre_class\\lib\\site-packages\\keras\\engine\\training.py:1184\u001b[0m, in \u001b[0;36mModel.fit\u001b[1;34m(self, x, y, batch_size, epochs, verbose, callbacks, validation_split, validation_data, shuffle, class_weight, sample_weight, initial_epoch, steps_per_epoch, validation_steps, validation_batch_size, validation_freq, max_queue_size, workers, use_multiprocessing)\u001b[0m\n\u001b[0;32m   <a href='file:///c%3A/Anaconda3/envs/music_gengre_class/lib/site-packages/keras/engine/training.py?line=1176'>1177</a>\u001b[0m \u001b[39mwith\u001b[39;00m tf\u001b[39m.\u001b[39mprofiler\u001b[39m.\u001b[39mexperimental\u001b[39m.\u001b[39mTrace(\n\u001b[0;32m   <a href='file:///c%3A/Anaconda3/envs/music_gengre_class/lib/site-packages/keras/engine/training.py?line=1177'>1178</a>\u001b[0m     \u001b[39m'\u001b[39m\u001b[39mtrain\u001b[39m\u001b[39m'\u001b[39m,\n\u001b[0;32m   <a href='file:///c%3A/Anaconda3/envs/music_gengre_class/lib/site-packages/keras/engine/training.py?line=1178'>1179</a>\u001b[0m     epoch_num\u001b[39m=\u001b[39mepoch,\n\u001b[0;32m   <a href='file:///c%3A/Anaconda3/envs/music_gengre_class/lib/site-packages/keras/engine/training.py?line=1179'>1180</a>\u001b[0m     step_num\u001b[39m=\u001b[39mstep,\n\u001b[0;32m   <a href='file:///c%3A/Anaconda3/envs/music_gengre_class/lib/site-packages/keras/engine/training.py?line=1180'>1181</a>\u001b[0m     batch_size\u001b[39m=\u001b[39mbatch_size,\n\u001b[0;32m   <a href='file:///c%3A/Anaconda3/envs/music_gengre_class/lib/site-packages/keras/engine/training.py?line=1181'>1182</a>\u001b[0m     _r\u001b[39m=\u001b[39m\u001b[39m1\u001b[39m):\n\u001b[0;32m   <a href='file:///c%3A/Anaconda3/envs/music_gengre_class/lib/site-packages/keras/engine/training.py?line=1182'>1183</a>\u001b[0m   callbacks\u001b[39m.\u001b[39mon_train_batch_begin(step)\n\u001b[1;32m-> <a href='file:///c%3A/Anaconda3/envs/music_gengre_class/lib/site-packages/keras/engine/training.py?line=1183'>1184</a>\u001b[0m   tmp_logs \u001b[39m=\u001b[39m \u001b[39mself\u001b[39;49m\u001b[39m.\u001b[39;49mtrain_function(iterator)\n\u001b[0;32m   <a href='file:///c%3A/Anaconda3/envs/music_gengre_class/lib/site-packages/keras/engine/training.py?line=1184'>1185</a>\u001b[0m   \u001b[39mif\u001b[39;00m data_handler\u001b[39m.\u001b[39mshould_sync:\n\u001b[0;32m   <a href='file:///c%3A/Anaconda3/envs/music_gengre_class/lib/site-packages/keras/engine/training.py?line=1185'>1186</a>\u001b[0m     context\u001b[39m.\u001b[39masync_wait()\n",
      "File \u001b[1;32mc:\\Anaconda3\\envs\\music_gengre_class\\lib\\site-packages\\tensorflow\\python\\eager\\def_function.py:885\u001b[0m, in \u001b[0;36mFunction.__call__\u001b[1;34m(self, *args, **kwds)\u001b[0m\n\u001b[0;32m    <a href='file:///c%3A/Anaconda3/envs/music_gengre_class/lib/site-packages/tensorflow/python/eager/def_function.py?line=881'>882</a>\u001b[0m compiler \u001b[39m=\u001b[39m \u001b[39m\"\u001b[39m\u001b[39mxla\u001b[39m\u001b[39m\"\u001b[39m \u001b[39mif\u001b[39;00m \u001b[39mself\u001b[39m\u001b[39m.\u001b[39m_jit_compile \u001b[39melse\u001b[39;00m \u001b[39m\"\u001b[39m\u001b[39mnonXla\u001b[39m\u001b[39m\"\u001b[39m\n\u001b[0;32m    <a href='file:///c%3A/Anaconda3/envs/music_gengre_class/lib/site-packages/tensorflow/python/eager/def_function.py?line=883'>884</a>\u001b[0m \u001b[39mwith\u001b[39;00m OptionalXlaContext(\u001b[39mself\u001b[39m\u001b[39m.\u001b[39m_jit_compile):\n\u001b[1;32m--> <a href='file:///c%3A/Anaconda3/envs/music_gengre_class/lib/site-packages/tensorflow/python/eager/def_function.py?line=884'>885</a>\u001b[0m   result \u001b[39m=\u001b[39m \u001b[39mself\u001b[39m\u001b[39m.\u001b[39m_call(\u001b[39m*\u001b[39margs, \u001b[39m*\u001b[39m\u001b[39m*\u001b[39mkwds)\n\u001b[0;32m    <a href='file:///c%3A/Anaconda3/envs/music_gengre_class/lib/site-packages/tensorflow/python/eager/def_function.py?line=886'>887</a>\u001b[0m new_tracing_count \u001b[39m=\u001b[39m \u001b[39mself\u001b[39m\u001b[39m.\u001b[39mexperimental_get_tracing_count()\n\u001b[0;32m    <a href='file:///c%3A/Anaconda3/envs/music_gengre_class/lib/site-packages/tensorflow/python/eager/def_function.py?line=887'>888</a>\u001b[0m without_tracing \u001b[39m=\u001b[39m (tracing_count \u001b[39m==\u001b[39m new_tracing_count)\n",
      "File \u001b[1;32mc:\\Anaconda3\\envs\\music_gengre_class\\lib\\site-packages\\tensorflow\\python\\eager\\def_function.py:933\u001b[0m, in \u001b[0;36mFunction._call\u001b[1;34m(self, *args, **kwds)\u001b[0m\n\u001b[0;32m    <a href='file:///c%3A/Anaconda3/envs/music_gengre_class/lib/site-packages/tensorflow/python/eager/def_function.py?line=929'>930</a>\u001b[0m \u001b[39mtry\u001b[39;00m:\n\u001b[0;32m    <a href='file:///c%3A/Anaconda3/envs/music_gengre_class/lib/site-packages/tensorflow/python/eager/def_function.py?line=930'>931</a>\u001b[0m   \u001b[39m# This is the first call of __call__, so we have to initialize.\u001b[39;00m\n\u001b[0;32m    <a href='file:///c%3A/Anaconda3/envs/music_gengre_class/lib/site-packages/tensorflow/python/eager/def_function.py?line=931'>932</a>\u001b[0m   initializers \u001b[39m=\u001b[39m []\n\u001b[1;32m--> <a href='file:///c%3A/Anaconda3/envs/music_gengre_class/lib/site-packages/tensorflow/python/eager/def_function.py?line=932'>933</a>\u001b[0m   \u001b[39mself\u001b[39;49m\u001b[39m.\u001b[39;49m_initialize(args, kwds, add_initializers_to\u001b[39m=\u001b[39;49minitializers)\n\u001b[0;32m    <a href='file:///c%3A/Anaconda3/envs/music_gengre_class/lib/site-packages/tensorflow/python/eager/def_function.py?line=933'>934</a>\u001b[0m \u001b[39mfinally\u001b[39;00m:\n\u001b[0;32m    <a href='file:///c%3A/Anaconda3/envs/music_gengre_class/lib/site-packages/tensorflow/python/eager/def_function.py?line=934'>935</a>\u001b[0m   \u001b[39m# At this point we know that the initialization is complete (or less\u001b[39;00m\n\u001b[0;32m    <a href='file:///c%3A/Anaconda3/envs/music_gengre_class/lib/site-packages/tensorflow/python/eager/def_function.py?line=935'>936</a>\u001b[0m   \u001b[39m# interestingly an exception was raised) so we no longer need a lock.\u001b[39;00m\n\u001b[0;32m    <a href='file:///c%3A/Anaconda3/envs/music_gengre_class/lib/site-packages/tensorflow/python/eager/def_function.py?line=936'>937</a>\u001b[0m   \u001b[39mself\u001b[39m\u001b[39m.\u001b[39m_lock\u001b[39m.\u001b[39mrelease()\n",
      "File \u001b[1;32mc:\\Anaconda3\\envs\\music_gengre_class\\lib\\site-packages\\tensorflow\\python\\eager\\def_function.py:759\u001b[0m, in \u001b[0;36mFunction._initialize\u001b[1;34m(self, args, kwds, add_initializers_to)\u001b[0m\n\u001b[0;32m    <a href='file:///c%3A/Anaconda3/envs/music_gengre_class/lib/site-packages/tensorflow/python/eager/def_function.py?line=755'>756</a>\u001b[0m \u001b[39mself\u001b[39m\u001b[39m.\u001b[39m_lifted_initializer_graph \u001b[39m=\u001b[39m lifted_initializer_graph\n\u001b[0;32m    <a href='file:///c%3A/Anaconda3/envs/music_gengre_class/lib/site-packages/tensorflow/python/eager/def_function.py?line=756'>757</a>\u001b[0m \u001b[39mself\u001b[39m\u001b[39m.\u001b[39m_graph_deleter \u001b[39m=\u001b[39m FunctionDeleter(\u001b[39mself\u001b[39m\u001b[39m.\u001b[39m_lifted_initializer_graph)\n\u001b[0;32m    <a href='file:///c%3A/Anaconda3/envs/music_gengre_class/lib/site-packages/tensorflow/python/eager/def_function.py?line=757'>758</a>\u001b[0m \u001b[39mself\u001b[39m\u001b[39m.\u001b[39m_concrete_stateful_fn \u001b[39m=\u001b[39m (\n\u001b[1;32m--> <a href='file:///c%3A/Anaconda3/envs/music_gengre_class/lib/site-packages/tensorflow/python/eager/def_function.py?line=758'>759</a>\u001b[0m     \u001b[39mself\u001b[39m\u001b[39m.\u001b[39m_stateful_fn\u001b[39m.\u001b[39m_get_concrete_function_internal_garbage_collected(  \u001b[39m# pylint: disable=protected-access\u001b[39;00m\n\u001b[0;32m    <a href='file:///c%3A/Anaconda3/envs/music_gengre_class/lib/site-packages/tensorflow/python/eager/def_function.py?line=759'>760</a>\u001b[0m         \u001b[39m*\u001b[39margs, \u001b[39m*\u001b[39m\u001b[39m*\u001b[39mkwds))\n\u001b[0;32m    <a href='file:///c%3A/Anaconda3/envs/music_gengre_class/lib/site-packages/tensorflow/python/eager/def_function.py?line=761'>762</a>\u001b[0m \u001b[39mdef\u001b[39;00m \u001b[39minvalid_creator_scope\u001b[39m(\u001b[39m*\u001b[39munused_args, \u001b[39m*\u001b[39m\u001b[39m*\u001b[39munused_kwds):\n\u001b[0;32m    <a href='file:///c%3A/Anaconda3/envs/music_gengre_class/lib/site-packages/tensorflow/python/eager/def_function.py?line=762'>763</a>\u001b[0m   \u001b[39m\"\"\"Disables variable creation.\"\"\"\u001b[39;00m\n",
      "File \u001b[1;32mc:\\Anaconda3\\envs\\music_gengre_class\\lib\\site-packages\\tensorflow\\python\\eager\\function.py:3066\u001b[0m, in \u001b[0;36mFunction._get_concrete_function_internal_garbage_collected\u001b[1;34m(self, *args, **kwargs)\u001b[0m\n\u001b[0;32m   <a href='file:///c%3A/Anaconda3/envs/music_gengre_class/lib/site-packages/tensorflow/python/eager/function.py?line=3063'>3064</a>\u001b[0m   args, kwargs \u001b[39m=\u001b[39m \u001b[39mNone\u001b[39;00m, \u001b[39mNone\u001b[39;00m\n\u001b[0;32m   <a href='file:///c%3A/Anaconda3/envs/music_gengre_class/lib/site-packages/tensorflow/python/eager/function.py?line=3064'>3065</a>\u001b[0m \u001b[39mwith\u001b[39;00m \u001b[39mself\u001b[39m\u001b[39m.\u001b[39m_lock:\n\u001b[1;32m-> <a href='file:///c%3A/Anaconda3/envs/music_gengre_class/lib/site-packages/tensorflow/python/eager/function.py?line=3065'>3066</a>\u001b[0m   graph_function, _ \u001b[39m=\u001b[39m \u001b[39mself\u001b[39;49m\u001b[39m.\u001b[39;49m_maybe_define_function(args, kwargs)\n\u001b[0;32m   <a href='file:///c%3A/Anaconda3/envs/music_gengre_class/lib/site-packages/tensorflow/python/eager/function.py?line=3066'>3067</a>\u001b[0m \u001b[39mreturn\u001b[39;00m graph_function\n",
      "File \u001b[1;32mc:\\Anaconda3\\envs\\music_gengre_class\\lib\\site-packages\\tensorflow\\python\\eager\\function.py:3463\u001b[0m, in \u001b[0;36mFunction._maybe_define_function\u001b[1;34m(self, args, kwargs)\u001b[0m\n\u001b[0;32m   <a href='file:///c%3A/Anaconda3/envs/music_gengre_class/lib/site-packages/tensorflow/python/eager/function.py?line=3458'>3459</a>\u001b[0m   \u001b[39mreturn\u001b[39;00m \u001b[39mself\u001b[39m\u001b[39m.\u001b[39m_define_function_with_shape_relaxation(\n\u001b[0;32m   <a href='file:///c%3A/Anaconda3/envs/music_gengre_class/lib/site-packages/tensorflow/python/eager/function.py?line=3459'>3460</a>\u001b[0m       args, kwargs, flat_args, filtered_flat_args, cache_key_context)\n\u001b[0;32m   <a href='file:///c%3A/Anaconda3/envs/music_gengre_class/lib/site-packages/tensorflow/python/eager/function.py?line=3461'>3462</a>\u001b[0m \u001b[39mself\u001b[39m\u001b[39m.\u001b[39m_function_cache\u001b[39m.\u001b[39mmissed\u001b[39m.\u001b[39madd(call_context_key)\n\u001b[1;32m-> <a href='file:///c%3A/Anaconda3/envs/music_gengre_class/lib/site-packages/tensorflow/python/eager/function.py?line=3462'>3463</a>\u001b[0m graph_function \u001b[39m=\u001b[39m \u001b[39mself\u001b[39;49m\u001b[39m.\u001b[39;49m_create_graph_function(args, kwargs)\n\u001b[0;32m   <a href='file:///c%3A/Anaconda3/envs/music_gengre_class/lib/site-packages/tensorflow/python/eager/function.py?line=3463'>3464</a>\u001b[0m \u001b[39mself\u001b[39m\u001b[39m.\u001b[39m_function_cache\u001b[39m.\u001b[39mprimary[cache_key] \u001b[39m=\u001b[39m graph_function\n\u001b[0;32m   <a href='file:///c%3A/Anaconda3/envs/music_gengre_class/lib/site-packages/tensorflow/python/eager/function.py?line=3465'>3466</a>\u001b[0m \u001b[39mreturn\u001b[39;00m graph_function, filtered_flat_args\n",
      "File \u001b[1;32mc:\\Anaconda3\\envs\\music_gengre_class\\lib\\site-packages\\tensorflow\\python\\eager\\function.py:3298\u001b[0m, in \u001b[0;36mFunction._create_graph_function\u001b[1;34m(self, args, kwargs, override_flat_arg_shapes)\u001b[0m\n\u001b[0;32m   <a href='file:///c%3A/Anaconda3/envs/music_gengre_class/lib/site-packages/tensorflow/python/eager/function.py?line=3292'>3293</a>\u001b[0m missing_arg_names \u001b[39m=\u001b[39m [\n\u001b[0;32m   <a href='file:///c%3A/Anaconda3/envs/music_gengre_class/lib/site-packages/tensorflow/python/eager/function.py?line=3293'>3294</a>\u001b[0m     \u001b[39m\"\u001b[39m\u001b[39m%s\u001b[39;00m\u001b[39m_\u001b[39m\u001b[39m%d\u001b[39;00m\u001b[39m\"\u001b[39m \u001b[39m%\u001b[39m (arg, i) \u001b[39mfor\u001b[39;00m i, arg \u001b[39min\u001b[39;00m \u001b[39menumerate\u001b[39m(missing_arg_names)\n\u001b[0;32m   <a href='file:///c%3A/Anaconda3/envs/music_gengre_class/lib/site-packages/tensorflow/python/eager/function.py?line=3294'>3295</a>\u001b[0m ]\n\u001b[0;32m   <a href='file:///c%3A/Anaconda3/envs/music_gengre_class/lib/site-packages/tensorflow/python/eager/function.py?line=3295'>3296</a>\u001b[0m arg_names \u001b[39m=\u001b[39m base_arg_names \u001b[39m+\u001b[39m missing_arg_names\n\u001b[0;32m   <a href='file:///c%3A/Anaconda3/envs/music_gengre_class/lib/site-packages/tensorflow/python/eager/function.py?line=3296'>3297</a>\u001b[0m graph_function \u001b[39m=\u001b[39m ConcreteFunction(\n\u001b[1;32m-> <a href='file:///c%3A/Anaconda3/envs/music_gengre_class/lib/site-packages/tensorflow/python/eager/function.py?line=3297'>3298</a>\u001b[0m     func_graph_module\u001b[39m.\u001b[39;49mfunc_graph_from_py_func(\n\u001b[0;32m   <a href='file:///c%3A/Anaconda3/envs/music_gengre_class/lib/site-packages/tensorflow/python/eager/function.py?line=3298'>3299</a>\u001b[0m         \u001b[39mself\u001b[39;49m\u001b[39m.\u001b[39;49m_name,\n\u001b[0;32m   <a href='file:///c%3A/Anaconda3/envs/music_gengre_class/lib/site-packages/tensorflow/python/eager/function.py?line=3299'>3300</a>\u001b[0m         \u001b[39mself\u001b[39;49m\u001b[39m.\u001b[39;49m_python_function,\n\u001b[0;32m   <a href='file:///c%3A/Anaconda3/envs/music_gengre_class/lib/site-packages/tensorflow/python/eager/function.py?line=3300'>3301</a>\u001b[0m         args,\n\u001b[0;32m   <a href='file:///c%3A/Anaconda3/envs/music_gengre_class/lib/site-packages/tensorflow/python/eager/function.py?line=3301'>3302</a>\u001b[0m         kwargs,\n\u001b[0;32m   <a href='file:///c%3A/Anaconda3/envs/music_gengre_class/lib/site-packages/tensorflow/python/eager/function.py?line=3302'>3303</a>\u001b[0m         \u001b[39mself\u001b[39;49m\u001b[39m.\u001b[39;49minput_signature,\n\u001b[0;32m   <a href='file:///c%3A/Anaconda3/envs/music_gengre_class/lib/site-packages/tensorflow/python/eager/function.py?line=3303'>3304</a>\u001b[0m         autograph\u001b[39m=\u001b[39;49m\u001b[39mself\u001b[39;49m\u001b[39m.\u001b[39;49m_autograph,\n\u001b[0;32m   <a href='file:///c%3A/Anaconda3/envs/music_gengre_class/lib/site-packages/tensorflow/python/eager/function.py?line=3304'>3305</a>\u001b[0m         autograph_options\u001b[39m=\u001b[39;49m\u001b[39mself\u001b[39;49m\u001b[39m.\u001b[39;49m_autograph_options,\n\u001b[0;32m   <a href='file:///c%3A/Anaconda3/envs/music_gengre_class/lib/site-packages/tensorflow/python/eager/function.py?line=3305'>3306</a>\u001b[0m         arg_names\u001b[39m=\u001b[39;49marg_names,\n\u001b[0;32m   <a href='file:///c%3A/Anaconda3/envs/music_gengre_class/lib/site-packages/tensorflow/python/eager/function.py?line=3306'>3307</a>\u001b[0m         override_flat_arg_shapes\u001b[39m=\u001b[39;49moverride_flat_arg_shapes,\n\u001b[0;32m   <a href='file:///c%3A/Anaconda3/envs/music_gengre_class/lib/site-packages/tensorflow/python/eager/function.py?line=3307'>3308</a>\u001b[0m         capture_by_value\u001b[39m=\u001b[39;49m\u001b[39mself\u001b[39;49m\u001b[39m.\u001b[39;49m_capture_by_value),\n\u001b[0;32m   <a href='file:///c%3A/Anaconda3/envs/music_gengre_class/lib/site-packages/tensorflow/python/eager/function.py?line=3308'>3309</a>\u001b[0m     \u001b[39mself\u001b[39m\u001b[39m.\u001b[39m_function_attributes,\n\u001b[0;32m   <a href='file:///c%3A/Anaconda3/envs/music_gengre_class/lib/site-packages/tensorflow/python/eager/function.py?line=3309'>3310</a>\u001b[0m     function_spec\u001b[39m=\u001b[39m\u001b[39mself\u001b[39m\u001b[39m.\u001b[39mfunction_spec,\n\u001b[0;32m   <a href='file:///c%3A/Anaconda3/envs/music_gengre_class/lib/site-packages/tensorflow/python/eager/function.py?line=3310'>3311</a>\u001b[0m     \u001b[39m# Tell the ConcreteFunction to clean up its graph once it goes out of\u001b[39;00m\n\u001b[0;32m   <a href='file:///c%3A/Anaconda3/envs/music_gengre_class/lib/site-packages/tensorflow/python/eager/function.py?line=3311'>3312</a>\u001b[0m     \u001b[39m# scope. This is not the default behavior since it gets used in some\u001b[39;00m\n\u001b[0;32m   <a href='file:///c%3A/Anaconda3/envs/music_gengre_class/lib/site-packages/tensorflow/python/eager/function.py?line=3312'>3313</a>\u001b[0m     \u001b[39m# places (like Keras) where the FuncGraph lives longer than the\u001b[39;00m\n\u001b[0;32m   <a href='file:///c%3A/Anaconda3/envs/music_gengre_class/lib/site-packages/tensorflow/python/eager/function.py?line=3313'>3314</a>\u001b[0m     \u001b[39m# ConcreteFunction.\u001b[39;00m\n\u001b[0;32m   <a href='file:///c%3A/Anaconda3/envs/music_gengre_class/lib/site-packages/tensorflow/python/eager/function.py?line=3314'>3315</a>\u001b[0m     shared_func_graph\u001b[39m=\u001b[39m\u001b[39mFalse\u001b[39;00m)\n\u001b[0;32m   <a href='file:///c%3A/Anaconda3/envs/music_gengre_class/lib/site-packages/tensorflow/python/eager/function.py?line=3315'>3316</a>\u001b[0m \u001b[39mreturn\u001b[39;00m graph_function\n",
      "File \u001b[1;32mc:\\Anaconda3\\envs\\music_gengre_class\\lib\\site-packages\\tensorflow\\python\\framework\\func_graph.py:1007\u001b[0m, in \u001b[0;36mfunc_graph_from_py_func\u001b[1;34m(name, python_func, args, kwargs, signature, func_graph, autograph, autograph_options, add_control_dependencies, arg_names, op_return_value, collections, capture_by_value, override_flat_arg_shapes, acd_record_initial_resource_uses)\u001b[0m\n\u001b[0;32m   <a href='file:///c%3A/Anaconda3/envs/music_gengre_class/lib/site-packages/tensorflow/python/framework/func_graph.py?line=1003'>1004</a>\u001b[0m \u001b[39melse\u001b[39;00m:\n\u001b[0;32m   <a href='file:///c%3A/Anaconda3/envs/music_gengre_class/lib/site-packages/tensorflow/python/framework/func_graph.py?line=1004'>1005</a>\u001b[0m   _, original_func \u001b[39m=\u001b[39m tf_decorator\u001b[39m.\u001b[39munwrap(python_func)\n\u001b[1;32m-> <a href='file:///c%3A/Anaconda3/envs/music_gengre_class/lib/site-packages/tensorflow/python/framework/func_graph.py?line=1006'>1007</a>\u001b[0m func_outputs \u001b[39m=\u001b[39m python_func(\u001b[39m*\u001b[39mfunc_args, \u001b[39m*\u001b[39m\u001b[39m*\u001b[39mfunc_kwargs)\n\u001b[0;32m   <a href='file:///c%3A/Anaconda3/envs/music_gengre_class/lib/site-packages/tensorflow/python/framework/func_graph.py?line=1008'>1009</a>\u001b[0m \u001b[39m# invariant: `func_outputs` contains only Tensors, CompositeTensors,\u001b[39;00m\n\u001b[0;32m   <a href='file:///c%3A/Anaconda3/envs/music_gengre_class/lib/site-packages/tensorflow/python/framework/func_graph.py?line=1009'>1010</a>\u001b[0m \u001b[39m# TensorArrays and `None`s.\u001b[39;00m\n\u001b[0;32m   <a href='file:///c%3A/Anaconda3/envs/music_gengre_class/lib/site-packages/tensorflow/python/framework/func_graph.py?line=1010'>1011</a>\u001b[0m func_outputs \u001b[39m=\u001b[39m nest\u001b[39m.\u001b[39mmap_structure(convert, func_outputs,\n\u001b[0;32m   <a href='file:///c%3A/Anaconda3/envs/music_gengre_class/lib/site-packages/tensorflow/python/framework/func_graph.py?line=1011'>1012</a>\u001b[0m                                   expand_composites\u001b[39m=\u001b[39m\u001b[39mTrue\u001b[39;00m)\n",
      "File \u001b[1;32mc:\\Anaconda3\\envs\\music_gengre_class\\lib\\site-packages\\tensorflow\\python\\eager\\def_function.py:668\u001b[0m, in \u001b[0;36mFunction._defun_with_scope.<locals>.wrapped_fn\u001b[1;34m(*args, **kwds)\u001b[0m\n\u001b[0;32m    <a href='file:///c%3A/Anaconda3/envs/music_gengre_class/lib/site-packages/tensorflow/python/eager/def_function.py?line=663'>664</a>\u001b[0m \u001b[39mwith\u001b[39;00m default_graph\u001b[39m.\u001b[39m_variable_creator_scope(scope, priority\u001b[39m=\u001b[39m\u001b[39m50\u001b[39m):  \u001b[39m# pylint: disable=protected-access\u001b[39;00m\n\u001b[0;32m    <a href='file:///c%3A/Anaconda3/envs/music_gengre_class/lib/site-packages/tensorflow/python/eager/def_function.py?line=664'>665</a>\u001b[0m   \u001b[39m# __wrapped__ allows AutoGraph to swap in a converted function. We give\u001b[39;00m\n\u001b[0;32m    <a href='file:///c%3A/Anaconda3/envs/music_gengre_class/lib/site-packages/tensorflow/python/eager/def_function.py?line=665'>666</a>\u001b[0m   \u001b[39m# the function a weak reference to itself to avoid a reference cycle.\u001b[39;00m\n\u001b[0;32m    <a href='file:///c%3A/Anaconda3/envs/music_gengre_class/lib/site-packages/tensorflow/python/eager/def_function.py?line=666'>667</a>\u001b[0m   \u001b[39mwith\u001b[39;00m OptionalXlaContext(compile_with_xla):\n\u001b[1;32m--> <a href='file:///c%3A/Anaconda3/envs/music_gengre_class/lib/site-packages/tensorflow/python/eager/def_function.py?line=667'>668</a>\u001b[0m     out \u001b[39m=\u001b[39m weak_wrapped_fn()\u001b[39m.\u001b[39m__wrapped__(\u001b[39m*\u001b[39margs, \u001b[39m*\u001b[39m\u001b[39m*\u001b[39mkwds)\n\u001b[0;32m    <a href='file:///c%3A/Anaconda3/envs/music_gengre_class/lib/site-packages/tensorflow/python/eager/def_function.py?line=668'>669</a>\u001b[0m   \u001b[39mreturn\u001b[39;00m out\n",
      "File \u001b[1;32mc:\\Anaconda3\\envs\\music_gengre_class\\lib\\site-packages\\tensorflow\\python\\framework\\func_graph.py:994\u001b[0m, in \u001b[0;36mfunc_graph_from_py_func.<locals>.wrapper\u001b[1;34m(*args, **kwargs)\u001b[0m\n\u001b[0;32m    <a href='file:///c%3A/Anaconda3/envs/music_gengre_class/lib/site-packages/tensorflow/python/framework/func_graph.py?line=991'>992</a>\u001b[0m \u001b[39mexcept\u001b[39;00m \u001b[39mException\u001b[39;00m \u001b[39mas\u001b[39;00m e:  \u001b[39m# pylint:disable=broad-except\u001b[39;00m\n\u001b[0;32m    <a href='file:///c%3A/Anaconda3/envs/music_gengre_class/lib/site-packages/tensorflow/python/framework/func_graph.py?line=992'>993</a>\u001b[0m   \u001b[39mif\u001b[39;00m \u001b[39mhasattr\u001b[39m(e, \u001b[39m\"\u001b[39m\u001b[39mag_error_metadata\u001b[39m\u001b[39m\"\u001b[39m):\n\u001b[1;32m--> <a href='file:///c%3A/Anaconda3/envs/music_gengre_class/lib/site-packages/tensorflow/python/framework/func_graph.py?line=993'>994</a>\u001b[0m     \u001b[39mraise\u001b[39;00m e\u001b[39m.\u001b[39mag_error_metadata\u001b[39m.\u001b[39mto_exception(e)\n\u001b[0;32m    <a href='file:///c%3A/Anaconda3/envs/music_gengre_class/lib/site-packages/tensorflow/python/framework/func_graph.py?line=994'>995</a>\u001b[0m   \u001b[39melse\u001b[39;00m:\n\u001b[0;32m    <a href='file:///c%3A/Anaconda3/envs/music_gengre_class/lib/site-packages/tensorflow/python/framework/func_graph.py?line=995'>996</a>\u001b[0m     \u001b[39mraise\u001b[39;00m\n",
      "\u001b[1;31mAttributeError\u001b[0m: in user code:\n\n    c:\\Anaconda3\\envs\\music_gengre_class\\lib\\site-packages\\keras\\engine\\training.py:853 train_function  *\n        return step_function(self, iterator)\n    c:\\Anaconda3\\envs\\music_gengre_class\\lib\\site-packages\\keras\\engine\\training.py:842 step_function  **\n        outputs = model.distribute_strategy.run(run_step, args=(data,))\n    c:\\Anaconda3\\envs\\music_gengre_class\\lib\\site-packages\\tensorflow\\python\\distribute\\distribute_lib.py:1286 run\n        \n    c:\\Anaconda3\\envs\\music_gengre_class\\lib\\site-packages\\tensorflow\\python\\distribute\\distribute_lib.py:2849 call_for_each_replica\n        \n    c:\\Anaconda3\\envs\\music_gengre_class\\lib\\site-packages\\tensorflow\\python\\distribute\\distribute_lib.py:3632 _call_for_each_replica\n        \n    c:\\Anaconda3\\envs\\music_gengre_class\\lib\\site-packages\\keras\\engine\\training.py:835 run_step  **\n        outputs = model.train_step(data)\n    c:\\Anaconda3\\envs\\music_gengre_class\\lib\\site-packages\\keras\\engine\\training.py:791 train_step\n        self.optimizer.minimize(loss, self.trainable_variables, tape=tape)\n    c:\\Anaconda3\\envs\\music_gengre_class\\lib\\site-packages\\keras\\optimizer_v2\\optimizer_v2.py:522 minimize\n        return self.apply_gradients(grads_and_vars, name=name)\n    c:\\Anaconda3\\envs\\music_gengre_class\\lib\\site-packages\\keras\\optimizer_v2\\optimizer_v2.py:655 apply_gradients\n        grads_and_vars = self._aggregate_gradients(grads_and_vars)\n    c:\\Anaconda3\\envs\\music_gengre_class\\lib\\site-packages\\keras\\optimizer_v2\\optimizer_v2.py:474 _aggregate_gradients\n        return self.gradient_aggregator(grads_and_vars)\n    c:\\Anaconda3\\envs\\music_gengre_class\\lib\\site-packages\\keras\\optimizer_v2\\utils.py:33 all_reduce_sum_gradients\n        if strategy_supports_no_merge_call():\n\n    AttributeError: module 'tensorflow.compat.v2.__internal__.distribute' has no attribute 'strategy_supports_no_merge_call'\n"
     ]
    }
   ],
   "source": [
    "history = model.fit(\n",
    "    X_train, y_train,\n",
    "    validation_data=(X_test, y_test),\n",
    "    epochs=5,\n",
    "    batch_size=128\n",
    ")"
   ]
  },
  {
   "cell_type": "code",
   "execution_count": 55,
   "metadata": {},
   "outputs": [
    {
     "name": "stdout",
     "output_type": "stream",
     "text": [
      "Found existing installation: keras 2.6.0\n",
      "Uninstalling keras-2.6.0:\n",
      "  Successfully uninstalled keras-2.6.0\n"
     ]
    },
    {
     "name": "stderr",
     "output_type": "stream",
     "text": [
      "WARNING: Skipping keras-nightly as it is not installed.\n"
     ]
    },
    {
     "name": "stdout",
     "output_type": "stream",
     "text": [
      "Found existing installation: Keras-Preprocessing 1.1.2\n",
      "Uninstalling Keras-Preprocessing-1.1.2:\n",
      "  Successfully uninstalled Keras-Preprocessing-1.1.2\n"
     ]
    },
    {
     "name": "stderr",
     "output_type": "stream",
     "text": [
      "WARNING: Skipping keras-vis as it is not installed.\n",
      "WARNING: Skipping tensorflow as it is not installed.\n",
      "ERROR: Could not find a version that satisfies the requirement tensorflow==2.3.0 (from versions: 2.5.0, 2.5.1, 2.5.2, 2.5.3, 2.6.0rc0, 2.6.0rc1, 2.6.0rc2, 2.6.0, 2.6.1, 2.6.2, 2.6.3, 2.6.4, 2.7.0rc0, 2.7.0rc1, 2.7.0, 2.7.1, 2.7.2, 2.8.0rc0, 2.8.0rc1, 2.8.0, 2.8.1, 2.9.0rc0, 2.9.0rc1, 2.9.0rc2, 2.9.0)\n",
      "ERROR: No matching distribution found for tensorflow==2.3.0\n"
     ]
    },
    {
     "name": "stdout",
     "output_type": "stream",
     "text": [
      "^C\n"
     ]
    }
   ],
   "source": [
    "!pip uninstall keras -y\n",
    "!pip uninstall keras-nightly -y\n",
    "!pip uninstall keras-Preprocessing -y\n",
    "!pip uninstall keras-vis -y\n",
    "!pip uninstall tensorflow -y\n",
    "\n",
    "!pip install tensorflow==2.3.0\n",
    "!pip install keras==2.4"
   ]
  }
 ],
 "metadata": {
  "interpreter": {
   "hash": "bc64ad508c8b112addb765b9c1cb2952ea0507c714e1699f385ec1c984ae852c"
  },
  "kernelspec": {
   "display_name": "Python 3.9.12 ('music_gengre_class')",
   "language": "python",
   "name": "python3"
  },
  "language_info": {
   "codemirror_mode": {
    "name": "ipython",
    "version": 3
   },
   "file_extension": ".py",
   "mimetype": "text/x-python",
   "name": "python",
   "nbconvert_exporter": "python",
   "pygments_lexer": "ipython3",
   "version": "3.9.12"
  },
  "orig_nbformat": 4
 },
 "nbformat": 4,
 "nbformat_minor": 2
}
